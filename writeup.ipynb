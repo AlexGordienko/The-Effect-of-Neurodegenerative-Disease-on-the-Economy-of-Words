{
 "cells": [
  {
   "cell_type": "markdown",
   "metadata": {
    "colab_type": "text",
    "id": "ZvKscsNU8LGC"
   },
   "source": [
    "## Final Project - The Effect of Neurodegenerative Disease on the Economy of Words"
   ]
  },
  {
   "cell_type": "code",
   "execution_count": 264,
   "metadata": {
    "colab": {},
    "colab_type": "code",
    "id": "cDPyBtCQ8LGG"
   },
   "outputs": [],
   "source": [
    "import string\n",
    "import numpy as np\n",
    "from scipy.stats import pearsonr \n",
    "import matplotlib.pyplot as plt\n",
    "import operator"
   ]
  },
  {
   "cell_type": "markdown",
   "metadata": {
    "colab_type": "text",
    "id": "j22Ehptr8LGJ"
   },
   "source": [
    "Load text files and author birth year."
   ]
  },
  {
   "cell_type": "code",
   "execution_count": 265,
   "metadata": {
    "colab": {},
    "colab_type": "code",
    "id": "16JnIB7Y8LGK"
   },
   "outputs": [],
   "source": [
    "birthYear = 1882\n",
    "txt1 = open(\"./testGroup/VWoolf/1915_TheVoyageOut.txt\",\"r\")\n",
    "txt1_age = 1915 - birthYear\n",
    "txt2 = open(\"./testGroup/VWoolf/1925_MrsDalloway.txt\",\"r\")\n",
    "txt2_age = 1925 - birthYear\n",
    "txt3 = open(\"./testGroup/VWoolf/1929_ARoomOfOnesOwn.txt\",\"r\")\n",
    "txt3_age = 1929 - birthYear"
   ]
  },
  {
   "cell_type": "markdown",
   "metadata": {
    "colab_type": "text",
    "id": "8Q1dFsTQ8LGO"
   },
   "source": [
    "Remove punctuations in text."
   ]
  },
  {
   "cell_type": "code",
   "execution_count": 266,
   "metadata": {
    "colab": {},
    "colab_type": "code",
    "id": "ZP9zjy138LGP"
   },
   "outputs": [],
   "source": [
    "remove = dict.fromkeys(map(ord, string.punctuation))"
   ]
  },
  {
   "cell_type": "markdown",
   "metadata": {
    "colab_type": "text",
    "id": "E8vugtzE8LGR"
   },
   "source": [
    "Collapse tokens to lower case."
   ]
  },
  {
   "cell_type": "code",
   "execution_count": 267,
   "metadata": {
    "colab": {},
    "colab_type": "code",
    "id": "T0K4UM5x8LGS"
   },
   "outputs": [],
   "source": [
    "txt1 = txt1.read().translate(remove).lower()\n",
    "txt2 = txt2.read().translate(remove).lower()\n",
    "txt3 = txt3.read().translate(remove).lower()"
   ]
  },
  {
   "cell_type": "markdown",
   "metadata": {
    "colab_type": "text",
    "id": "QoRfbuMU8LGU"
   },
   "source": [
    "Construct a dictionary where `key` = word, `value` = count (or frequency)."
   ]
  },
  {
   "cell_type": "code",
   "execution_count": 268,
   "metadata": {
    "colab": {
     "base_uri": "https://localhost:8080/",
     "height": 54
    },
    "colab_type": "code",
    "id": "_npg5p7N8LGV",
    "outputId": "f164263b-1a86-4a15-a466-0202dd52dfb4"
   },
   "outputs": [],
   "source": [
    "wordfreq1 = {}\n",
    "for word in txt1.split():\n",
    "    if word not in wordfreq1:\n",
    "        wordfreq1[word] = 1\n",
    "    else:\n",
    "        wordfreq1[word] += 1\n",
    "wordfreq2 = {}\n",
    "for word in txt2.split():\n",
    "    if word not in wordfreq2:\n",
    "        wordfreq2[word] = 1\n",
    "    else:\n",
    "        wordfreq2[word] += 1\n",
    "wordfreq3 = {}\n",
    "for word in txt3.split():\n",
    "    if word not in wordfreq3:\n",
    "        wordfreq3[word] = 1\n",
    "    else:\n",
    "        wordfreq3[word] += 1"
   ]
  },
  {
   "cell_type": "markdown",
   "metadata": {
    "colab_type": "text",
    "id": "VBT5ohay8LGf"
   },
   "source": [
    "**Step 1**: Construct an array of sorted word frequency of all words, and a separate array of word lengths."
   ]
  },
  {
   "cell_type": "code",
   "execution_count": 269,
   "metadata": {
    "colab": {
     "base_uri": "https://localhost:8080/",
     "height": 34
    },
    "colab_type": "code",
    "id": "HWt_mTge8LGg",
    "outputId": "94fa388c-34a8-42e5-9473-d921da9dedd8"
   },
   "outputs": [],
   "source": [
    "# text 1\n",
    "sorted_dict1 = sorted(wordfreq1.items(), key=operator.itemgetter(1), reverse=True)\n",
    "sorted_wordfreq1 = []\n",
    "sorted_wordfreq_vals1 = []\n",
    "word_lengths1 = []\n",
    "for item in sorted_dict1: \n",
    "    sorted_wordfreq1.append(item[0])\n",
    "    sorted_wordfreq_vals1.append(item[1])\n",
    "    word_lengths1.append(len(item[0]))\n",
    "# text 2\n",
    "sorted_dict2 = sorted(wordfreq2.items(), key=operator.itemgetter(1), reverse=True)\n",
    "sorted_wordfreq2 = []\n",
    "sorted_wordfreq_vals2 = []\n",
    "word_lengths2 = []\n",
    "for item in sorted_dict2: \n",
    "    sorted_wordfreq2.append(item[0])\n",
    "    sorted_wordfreq_vals2.append(item[1])\n",
    "    word_lengths2.append(len(item[0]))\n",
    "# text 3\n",
    "sorted_dict3 = sorted(wordfreq3.items(), key=operator.itemgetter(1), reverse=True)\n",
    "sorted_wordfreq3 = []\n",
    "sorted_wordfreq_vals3 = []\n",
    "word_lengths3 = []\n",
    "for item in sorted_dict3: \n",
    "    sorted_wordfreq3.append(item[0])\n",
    "    sorted_wordfreq_vals3.append(item[1])\n",
    "    word_lengths3.append(len(item[0]))"
   ]
  },
  {
   "cell_type": "markdown",
   "metadata": {
    "colab_type": "text",
    "id": "VC-Lyeva8LGi"
   },
   "source": [
    "**Step 2**: Construct an array of ranks from on the sorted frequency array in **Step 1**."
   ]
  },
  {
   "cell_type": "code",
   "execution_count": 270,
   "metadata": {
    "colab": {
     "base_uri": "https://localhost:8080/",
     "height": 34
    },
    "colab_type": "code",
    "id": "p_UjRxFq8LGj",
    "outputId": "4ea70dd6-508f-472b-be3b-a1d38cafbd1c"
   },
   "outputs": [],
   "source": [
    "ranks1 = []\n",
    "k1 = 1\n",
    "for word in sorted_wordfreq1:\n",
    "    ranks1.append(k1)\n",
    "    k1 += 1\n",
    "ranks2 = []\n",
    "k2 = 1\n",
    "for word in sorted_wordfreq2:\n",
    "    ranks2.append(k2)\n",
    "    k2 += 1\n",
    "ranks3 = []\n",
    "k3 = 1\n",
    "for word in sorted_wordfreq3:\n",
    "    ranks3.append(k3)\n",
    "    k3 += 1"
   ]
  },
  {
   "cell_type": "markdown",
   "metadata": {
    "colab_type": "text",
    "id": "sLD1-qe48LGm"
   },
   "source": [
    "**Step 3** (optional): Print the most frequent 20 words and their frequencies."
   ]
  },
  {
   "cell_type": "code",
   "execution_count": 271,
   "metadata": {
    "colab": {
     "base_uri": "https://localhost:8080/",
     "height": 374
    },
    "colab_type": "code",
    "id": "hM8QdQRH8LGm",
    "outputId": "6ab3b7fd-ff61-41e8-e8d0-711933dacdd4"
   },
   "outputs": [
    {
     "name": "stdout",
     "output_type": "stream",
     "text": [
      "20 most common words:\n",
      "Text 1\n",
      "('the', 7367)\n",
      "('and', 4508)\n",
      "('of', 3842)\n",
      "('to', 3703)\n",
      "('a', 3009)\n",
      "('she', 2491)\n",
      "('in', 2302)\n",
      "('was', 2091)\n",
      "('her', 1965)\n",
      "('he', 1659)\n",
      "('that', 1571)\n",
      "('it', 1397)\n",
      "('i', 1259)\n",
      "('had', 1214)\n",
      "('they', 1199)\n",
      "('with', 1142)\n",
      "('as', 1074)\n",
      "('you', 1023)\n",
      "('at', 978)\n",
      "('for', 956)\n",
      "Text 2\n",
      "('the', 3215)\n",
      "('and', 1829)\n",
      "('of', 1554)\n",
      "('to', 1497)\n",
      "('she', 1482)\n",
      "('a', 1373)\n",
      "('was', 1249)\n",
      "('her', 1239)\n",
      "('in', 1163)\n",
      "('he', 1128)\n",
      "('it', 891)\n",
      "('had', 887)\n",
      "('that', 675)\n",
      "('with', 581)\n",
      "('for', 531)\n",
      "('—', 527)\n",
      "('his', 488)\n",
      "('but', 481)\n",
      "('on', 447)\n",
      "('at', 440)\n",
      "Text 3\n",
      "('the', 2172)\n",
      "('of', 1482)\n",
      "('and', 1375)\n",
      "('a', 1015)\n",
      "('to', 1015)\n",
      "('in', 664)\n",
      "('that', 642)\n",
      "('it', 557)\n",
      "('i', 553)\n",
      "('was', 439)\n",
      "('is', 435)\n",
      "('for', 316)\n",
      "('one', 290)\n",
      "('her', 273)\n",
      "('have', 272)\n",
      "('not', 266)\n",
      "('or', 260)\n",
      "('she', 251)\n",
      "('had', 241)\n",
      "('as', 240)\n"
     ]
    }
   ],
   "source": [
    "print(\"20 most common words:\")\n",
    "\n",
    "print(\"Text 1\")\n",
    "for i in range(20):\n",
    "    print(sorted_dict1[i])\n",
    "print(\"Text 2\")\n",
    "for i in range(20):\n",
    "    print(sorted_dict2[i])\n",
    "print(\"Text 3\")\n",
    "for i in range(20):\n",
    "    print(sorted_dict3[i])"
   ]
  },
  {
   "cell_type": "markdown",
   "metadata": {
    "colab_type": "text",
    "collapsed": true,
    "id": "teNUBjpr8LGs"
   },
   "source": [
    "**Step 4**: Print a scatter plot of $log(freq)$ against $log(rank)$ for all three texts. \n",
    "\n",
    "**Step 5**: Print slopes derived from linear regression on the above scatter plots. "
   ]
  },
  {
   "cell_type": "code",
   "execution_count": 272,
   "metadata": {
    "colab": {
     "base_uri": "https://localhost:8080/",
     "height": 51
    },
    "colab_type": "code",
    "id": "yp33y0x68LGt",
    "outputId": "a8533396-f010-45f8-e6a1-a26a353547cb",
    "scrolled": false
   },
   "outputs": [
    {
     "name": "stdout",
     "output_type": "stream",
     "text": [
      "SLOPE 1\n",
      "-1.2050583063462836\n",
      "SLOPE 2\n",
      "-1.0082923716212628\n",
      "SLOPE 3\n",
      "-0.9242210824111095\n"
     ]
    },
    {
     "data": {
      "image/png": "[encoded data removed]",
      "text/plain": [
       "<Figure size 1440x504 with 3 Axes>"
      ]
     },
     "metadata": {
      "needs_background": "light"
     },
     "output_type": "display_data"
    }
   ],
   "source": [
    "plt.figure(figsize=(20,7))\n",
    "\n",
    "# Text 1\n",
    "plt.subplot(131)\n",
    "plt.scatter(np.log(np.array(ranks1)), np.log(np.array(sorted_wordfreq_vals1)))\n",
    "plt.xlabel('Log Word Frequency Text 1')\n",
    "plt.ylabel('Log Rank Text 1')\n",
    "\n",
    "linefit1 = np.polyfit(np.log(np.array(ranks1)),np.log(np.array(sorted_wordfreq_vals1)),1) \n",
    "slope1 = linefit1[0]\n",
    "print(\"SLOPE 1\")\n",
    "print(slope1)\n",
    "\n",
    "# Text 2\n",
    "plt.subplot(132)\n",
    "plt.scatter(np.log(np.array(ranks2)), np.log(np.array(sorted_wordfreq_vals2)))\n",
    "plt.xlabel('Log Word Frequency Text 2')\n",
    "plt.ylabel('Log Rank Text 2')\n",
    "\n",
    "linefit2 = np.polyfit(np.log(np.array(ranks2)),np.log(np.array(sorted_wordfreq_vals2)),1) \n",
    "slope2 = linefit2[0]\n",
    "print(\"SLOPE 2\")\n",
    "print(slope2)\n",
    "\n",
    "# Text 3\n",
    "plt.subplot(133)\n",
    "plt.scatter(np.log(np.array(ranks3)), np.log(np.array(sorted_wordfreq_vals3)))\n",
    "plt.xlabel('Log Word Frequency Text 3')\n",
    "plt.ylabel('Log Rank Text 3')\n",
    "\n",
    "linefit3 = np.polyfit(np.log(np.array(ranks3)),np.log(np.array(sorted_wordfreq_vals3)),1) \n",
    "slope3 = linefit3[0]\n",
    "print(\"SLOPE 3\")\n",
    "print(slope3)\n",
    "\n",
    "plt.show()"
   ]
  },
  {
   "cell_type": "markdown",
   "metadata": {},
   "source": [
    "**Step 6**: Plot slopes from scatter plots above vs author's age at time of writing."
   ]
  },
  {
   "cell_type": "code",
   "execution_count": 273,
   "metadata": {
    "scrolled": true
   },
   "outputs": [
    {
     "name": "stdout",
     "output_type": "stream",
     "text": [
      "Slope\n",
      "0.01998610781789507\n"
     ]
    },
    {
     "data": {
      "image/png": "[encoded data removed]",
      "text/plain": [
       "<Figure size 432x288 with 1 Axes>"
      ]
     },
     "metadata": {
      "needs_background": "light"
     },
     "output_type": "display_data"
    }
   ],
   "source": [
    "plt.scatter([txt1_age, txt2_age, txt3_age], [slope1, slope2, slope3])\n",
    "\n",
    "linefit = np.polyfit([txt1_age, txt2_age, txt3_age],[slope1, slope2, slope3],1)\n",
    "slope = linefit[0]\n",
    "intercept = linefit[1]\n",
    "\n",
    "x = np.array([txt1_age, txt2_age, txt3_age])\n",
    "y = x*slope + intercept\n",
    "plt.plot(x, y)\n",
    "plt.xlabel(\"Age of Author\")\n",
    "plt.ylabel('Zipf Coefficient')\n",
    "print(\"Slope\")\n",
    "print(slope)"
   ]
  },
  {
   "cell_type": "markdown",
   "metadata": {},
   "source": [
    "**Step 7**: Pronoun frequency. Find total number of pronouns in book over total words and graph against age with slope."
   ]
  },
  {
   "cell_type": "code",
   "execution_count": 274,
   "metadata": {},
   "outputs": [
    {
     "name": "stdout",
     "output_type": "stream",
     "text": [
      "Slope\n",
      "0.00013464280786387798\n"
     ]
    },
    {
     "data": {
      "image/png": "[encoded data removed]",
      "text/plain": [
       "<Figure size 432x288 with 1 Axes>"
      ]
     },
     "metadata": {
      "needs_background": "light"
     },
     "output_type": "display_data"
    }
   ],
   "source": [
    "pronouns = ['i']\n",
    "\n",
    "totalPronouns1 = 0\n",
    "totalPronouns2 = 0\n",
    "totalPronouns3 = 0\n",
    "for word in pronouns: \n",
    "    totalPronouns1 += wordfreq1[word]\n",
    "    totalPronouns2 += wordfreq2[word]\n",
    "    totalPronouns3 += wordfreq3[word]\n",
    "\n",
    "plt.scatter([txt1_age, txt2_age, txt3_age], [totalPronouns1/len(txt1.split()), totalPronouns2/len(txt2.split()), totalPronouns3/len(txt3.split())])\n",
    "\n",
    "linefit = np.polyfit([txt1_age, txt2_age, txt3_age],[totalPronouns1/len(txt1.split()), totalPronouns2/len(txt2.split()), totalPronouns3/len(txt3.split())],1)\n",
    "slope = linefit[0]\n",
    "intercept = linefit[1]\n",
    "\n",
    "x = np.array([txt1_age, txt2_age, txt3_age])\n",
    "y = x*slope + intercept\n",
    "plt.xlabel(\"Age of Author\")\n",
    "plt.ylabel('Use of \"I\"')\n",
    "plt.plot(x, y)\n",
    "print(\"Slope\")\n",
    "print(slope)"
   ]
  }
 ],
 "metadata": {
  "anaconda-cloud": {},
  "colab": {
   "collapsed_sections": [],
   "name": "lab6_writeup_1004142215.ipynb",
   "provenance": [],
   "toc_visible": true
  },
  "kernelspec": {
   "display_name": "Python 3",
   "language": "python",
   "name": "python3"
  },
  "language_info": {
   "codemirror_mode": {
    "name": "ipython",
    "version": 3
   },
   "file_extension": ".py",
   "mimetype": "text/x-python",
   "name": "python",
   "nbconvert_exporter": "python",
   "pygments_lexer": "ipython3",
   "version": "3.7.4"
  }
 },
 "nbformat": 4,
 "nbformat_minor": 1
}
